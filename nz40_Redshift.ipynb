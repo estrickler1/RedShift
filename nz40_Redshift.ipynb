{
  "nbformat": 4,
  "nbformat_minor": 0,
  "metadata": {
    "colab": {
      "name": "nz40_Redshift.ipynb",
      "provenance": [],
      "include_colab_link": true
    },
    "kernelspec": {
      "name": "python3",
      "display_name": "Python 3"
    }
  },
  "cells": [
    {
      "cell_type": "markdown",
      "metadata": {
        "id": "view-in-github",
        "colab_type": "text"
      },
      "source": [
        "<a href=\"https://colab.research.google.com/github/estrickler1/RedShift/blob/main/nz40_Redshift.ipynb\" target=\"_parent\"><img src=\"https://colab.research.google.com/assets/colab-badge.svg\" alt=\"Open In Colab\"/></a>"
      ]
    },
    {
      "cell_type": "code",
      "metadata": {
        "id": "ooXRMdQ03JMX"
      },
      "source": [
        "import pandas as pa\r\n",
        "import plotly.express as px\r\n",
        "import math\r\n",
        "\r\n",
        "url = 'https://raw.githubusercontent.com/nurfnick/Galaxies/main/nz40.csv'\r\n",
        "data = pa.read_csv(url)\r\n",
        "\r\n",
        "url2 = 'https://raw.githubusercontent.com/estrickler1/RedShift/main/CFA2.csv'\r\n",
        "data2 = pa.read_csv(url2)"
      ],
      "execution_count": 44,
      "outputs": []
    },
    {
      "cell_type": "code",
      "metadata": {
        "id": "TPJSmLTs3NGx"
      },
      "source": [
        "data = data[1:-7] #removing \r\n",
        "data2 = data2[1:-10]"
      ],
      "execution_count": 45,
      "outputs": []
    },
    {
      "cell_type": "code",
      "metadata": {
        "id": "WRpvpbK3j5LL"
      },
      "source": [
        "data = data.iloc[:,0:8]\r\n",
        "data2 = data2.iloc[:,0:8]\r\n",
        "#data.append(data2,ignore_index=True,sort=False)\r\n"
      ],
      "execution_count": 49,
      "outputs": []
    },
    {
      "cell_type": "code",
      "metadata": {
        "id": "bZaNWH8g3XWu",
        "outputId": "50ff6da2-bf5e-45df-dcff-fbade269a71a",
        "colab": {
          "base_uri": "https://localhost:8080/",
          "height": 407
        }
      },
      "source": [
        "#data = data.rename(columns = {'Name', 'RA (1950)', 'Dec m_zw', 'v_h', 'sig sour', 'Type', 'D1', 'D2'})\r\n",
        "#data = data.rename(columns = {'D1.1':'D2'}, inplace = True)\r\n",
        "#data = data.columns = ['Name','RA (1950)', 'Dec m_zw', 'v_h', 'sig sour', 'Type', 'D1', 'D2']\r\n",
        "data"
      ],
      "execution_count": 47,
      "outputs": [
        {
          "output_type": "execute_result",
          "data": {
            "text/html": [
              "<div>\n",
              "<style scoped>\n",
              "    .dataframe tbody tr th:only-of-type {\n",
              "        vertical-align: middle;\n",
              "    }\n",
              "\n",
              "    .dataframe tbody tr th {\n",
              "        vertical-align: top;\n",
              "    }\n",
              "\n",
              "    .dataframe thead th {\n",
              "        text-align: right;\n",
              "    }\n",
              "</style>\n",
              "<table border=\"1\" class=\"dataframe\">\n",
              "  <thead>\n",
              "    <tr style=\"text-align: right;\">\n",
              "      <th></th>\n",
              "      <th>Name</th>\n",
              "      <th>RA (1950)</th>\n",
              "      <th>Dec m_zw</th>\n",
              "      <th>v_h</th>\n",
              "      <th>sig sour</th>\n",
              "      <th>Type</th>\n",
              "      <th>D1</th>\n",
              "      <th>D1.1</th>\n",
              "    </tr>\n",
              "  </thead>\n",
              "  <tbody>\n",
              "    <tr>\n",
              "      <th>1</th>\n",
              "      <td>00006+2142</td>\n",
              "      <td>36</td>\n",
              "      <td>21420014.4</td>\n",
              "      <td>6605</td>\n",
              "      <td>3212700</td>\n",
              "      <td>5P</td>\n",
              "      <td>1</td>\n",
              "      <td>0.7</td>\n",
              "    </tr>\n",
              "    <tr>\n",
              "      <th>2</th>\n",
              "      <td>00006-0211</td>\n",
              "      <td>36</td>\n",
              "      <td>-2110014.3</td>\n",
              "      <td>7323</td>\n",
              "      <td>3112700</td>\n",
              "      <td>4X</td>\n",
              "      <td>1.3</td>\n",
              "      <td>0.8</td>\n",
              "    </tr>\n",
              "    <tr>\n",
              "      <th>3</th>\n",
              "      <td>N7814</td>\n",
              "      <td>41.1</td>\n",
              "      <td>15520312</td>\n",
              "      <td>1050</td>\n",
              "      <td>410611</td>\n",
              "      <td>2A s</td>\n",
              "      <td>6.5</td>\n",
              "      <td>2.7</td>\n",
              "    </tr>\n",
              "    <tr>\n",
              "      <th>4</th>\n",
              "      <td>00010+2256</td>\n",
              "      <td>100</td>\n",
              "      <td>22560014</td>\n",
              "      <td>7301</td>\n",
              "      <td>3412700</td>\n",
              "      <td>5</td>\n",
              "      <td>1.9</td>\n",
              "      <td>1</td>\n",
              "    </tr>\n",
              "    <tr>\n",
              "      <th>5</th>\n",
              "      <td>N7816</td>\n",
              "      <td>112</td>\n",
              "      <td>7110014</td>\n",
              "      <td>5241</td>\n",
              "      <td>510620</td>\n",
              "      <td>4</td>\n",
              "      <td>2</td>\n",
              "      <td>2</td>\n",
              "    </tr>\n",
              "    <tr>\n",
              "      <th>...</th>\n",
              "      <td>...</td>\n",
              "      <td>...</td>\n",
              "      <td>...</td>\n",
              "      <td>...</td>\n",
              "      <td>...</td>\n",
              "      <td>...</td>\n",
              "      <td>...</td>\n",
              "      <td>...</td>\n",
              "    </tr>\n",
              "    <tr>\n",
              "      <th>2391</th>\n",
              "      <td>N7805</td>\n",
              "      <td>235852.7</td>\n",
              "      <td>31092014.3</td>\n",
              "      <td>4948</td>\n",
              "      <td>2112700</td>\n",
              "      <td>-2X P</td>\n",
              "      <td>1</td>\n",
              "      <td>0.7</td>\n",
              "    </tr>\n",
              "    <tr>\n",
              "      <th>2392</th>\n",
              "      <td>N7806</td>\n",
              "      <td>235854</td>\n",
              "      <td>31100014.4</td>\n",
              "      <td>4827</td>\n",
              "      <td>2212700</td>\n",
              "      <td>4X P</td>\n",
              "      <td>1.1</td>\n",
              "      <td>0.8</td>\n",
              "    </tr>\n",
              "    <tr>\n",
              "      <th>2393</th>\n",
              "      <td>23591+2313</td>\n",
              "      <td>235906</td>\n",
              "      <td>23130013.2</td>\n",
              "      <td>4371</td>\n",
              "      <td>810620</td>\n",
              "      <td>6  R</td>\n",
              "      <td>2.7</td>\n",
              "      <td>1.3</td>\n",
              "    </tr>\n",
              "    <tr>\n",
              "      <th>2394</th>\n",
              "      <td>23592+2314</td>\n",
              "      <td>235912</td>\n",
              "      <td>23140013.9</td>\n",
              "      <td>4336</td>\n",
              "      <td>710620</td>\n",
              "      <td>7B P</td>\n",
              "      <td>1.6</td>\n",
              "      <td>0.5</td>\n",
              "    </tr>\n",
              "    <tr>\n",
              "      <th>2395</th>\n",
              "      <td>N7810</td>\n",
              "      <td>235948</td>\n",
              "      <td>12410014.3</td>\n",
              "      <td>5532</td>\n",
              "      <td>2912700</td>\n",
              "      <td>-2</td>\n",
              "      <td>1</td>\n",
              "      <td>0.7</td>\n",
              "    </tr>\n",
              "  </tbody>\n",
              "</table>\n",
              "<p>2395 rows × 8 columns</p>\n",
              "</div>"
            ],
            "text/plain": [
              "            Name RA (1950)    Dec m_zw   v_h sig sour   Type   D1 D1.1\n",
              "1     00006+2142        36  21420014.4  6605  3212700     5P    1  0.7\n",
              "2     00006-0211        36  -2110014.3  7323  3112700     4X  1.3  0.8\n",
              "3          N7814      41.1    15520312  1050   410611   2A s  6.5  2.7\n",
              "4     00010+2256       100    22560014  7301  3412700      5  1.9    1\n",
              "5          N7816       112     7110014  5241   510620      4    2    2\n",
              "...          ...       ...         ...   ...      ...    ...  ...  ...\n",
              "2391       N7805  235852.7  31092014.3  4948  2112700  -2X P    1  0.7\n",
              "2392       N7806    235854  31100014.4  4827  2212700   4X P  1.1  0.8\n",
              "2393  23591+2313    235906  23130013.2  4371   810620   6  R  2.7  1.3\n",
              "2394  23592+2314    235912  23140013.9  4336   710620   7B P  1.6  0.5\n",
              "2395       N7810    235948  12410014.3  5532  2912700     -2    1  0.7\n",
              "\n",
              "[2395 rows x 8 columns]"
            ]
          },
          "metadata": {
            "tags": []
          },
          "execution_count": 47
        }
      ]
    },
    {
      "cell_type": "code",
      "metadata": {
        "id": "UyHEruT9lgsS",
        "colab": {
          "base_uri": "https://localhost:8080/"
        },
        "outputId": "6cfc78a0-5e4e-456f-f65d-0ddf47f9d740"
      },
      "source": [
        "[[data.columns[i],data2.columns[i]] for i in range(8)]"
      ],
      "execution_count": 50,
      "outputs": [
        {
          "output_type": "execute_result",
          "data": {
            "text/plain": [
              "[['Name', 'Name'],\n",
              " ['RA (1950)', 'RA (1950)'],\n",
              " ['Dec m_zw', 'Dec m_Zw'],\n",
              " ['v_h', 'V_h'],\n",
              " ['sig sour', 'sig sour'],\n",
              " ['Type', 'Ty'],\n",
              " ['D1', 'D1'],\n",
              " ['D1.1', 'D2']]"
            ]
          },
          "metadata": {
            "tags": []
          },
          "execution_count": 50
        }
      ]
    },
    {
      "cell_type": "code",
      "metadata": {
        "id": "-XKoBP4HkJUs"
      },
      "source": [
        "dictionary = {data.columns[0:8]:data2.columns[0:8]}\r\n",
        "\r\n",
        "data2.rename(dictionary)"
      ],
      "execution_count": null,
      "outputs": []
    },
    {
      "cell_type": "code",
      "metadata": {
        "id": "hKMP90NVj2al"
      },
      "source": [
        "vhdata2 = data2[data2['v_h']\r\n",
        "data = data['v_h'].append(vhdata2)"
      ],
      "execution_count": null,
      "outputs": []
    },
    {
      "cell_type": "code",
      "metadata": {
        "id": "l-0H3g-k6pYH"
      },
      "source": [
        "#px.scatter(data, x = \"RA (1950)\", y = \"Dec m_zw\", color = \"v_h\", hover_name= \"Name\")"
      ],
      "execution_count": null,
      "outputs": []
    },
    {
      "cell_type": "code",
      "metadata": {
        "id": "MtBqIfS0y62T"
      },
      "source": [
        "data[data['v_h'] == '1 5261']"
      ],
      "execution_count": null,
      "outputs": []
    },
    {
      "cell_type": "code",
      "metadata": {
        "id": "AX4L0iTa1zwL"
      },
      "source": [
        "data.v_h"
      ],
      "execution_count": null,
      "outputs": []
    },
    {
      "cell_type": "code",
      "metadata": {
        "id": "4eGb71gLxgm6"
      },
      "source": [
        "badnumbers = data.v_h.loc[data['v_h'].str.match(r'[0-9.]+ ')] #starts with a number and then a space\r\n",
        "goodnumbers = badnumbers.str.slice(2,) #get rid of that # and space"
      ],
      "execution_count": null,
      "outputs": []
    },
    {
      "cell_type": "code",
      "metadata": {
        "id": "bv9Uafle61EO"
      },
      "source": [
        " greatnumbers = data.v_h.loc[~data['v_h'].str.match(r'[0-9.]+ ')] #get all the ones that didn't have the above issue"
      ],
      "execution_count": null,
      "outputs": []
    },
    {
      "cell_type": "code",
      "metadata": {
        "id": "vu6JFHBL7JCV"
      },
      "source": [
        "somenumbers = pa.concat([greatnumbers,goodnumbers]) #put them back together"
      ],
      "execution_count": null,
      "outputs": []
    },
    {
      "cell_type": "code",
      "metadata": {
        "id": "oqiwd88V3nBj"
      },
      "source": [
        "data['v_h'] = somenumbers"
      ],
      "execution_count": null,
      "outputs": []
    },
    {
      "cell_type": "code",
      "metadata": {
        "id": "676-H51J0uay"
      },
      "source": [
        "data.iloc[64:67,:]"
      ],
      "execution_count": null,
      "outputs": []
    },
    {
      "cell_type": "code",
      "metadata": {
        "id": "sp5DvcSu01CS"
      },
      "source": [
        "data = data.loc[~data['v_h'].str.match(r'[A-Z]')] #removing the ones that had months..."
      ],
      "execution_count": null,
      "outputs": []
    },
    {
      "cell_type": "code",
      "metadata": {
        "id": "p7qyMMiV6uHe"
      },
      "source": [
        "data.v_h.astype(int)"
      ],
      "execution_count": null,
      "outputs": []
    },
    {
      "cell_type": "code",
      "metadata": {
        "id": "7k_j077K-DeO"
      },
      "source": [
        "min(data.v_h)"
      ],
      "execution_count": null,
      "outputs": []
    },
    {
      "cell_type": "code",
      "metadata": {
        "id": "GB8wqkfR-UE_"
      },
      "source": [
        "data['v_h'] = pa.to_numeric(data['v_h'])"
      ],
      "execution_count": null,
      "outputs": []
    },
    {
      "cell_type": "code",
      "metadata": {
        "id": "73hIESqT_HTp"
      },
      "source": [
        "data.dtypes"
      ],
      "execution_count": null,
      "outputs": []
    },
    {
      "cell_type": "code",
      "metadata": {
        "id": "NhIyZOxFEnAg"
      },
      "source": [
        "data.describe()"
      ],
      "execution_count": null,
      "outputs": []
    },
    {
      "cell_type": "code",
      "metadata": {
        "id": "KpfsE2dtG0Ds"
      },
      "source": [
        "px.scatter(data, x = \"RA (1950)\", y = \"Dec m_zw\", color = \"v_h\", hover_name= \"Name\")"
      ],
      "execution_count": null,
      "outputs": []
    },
    {
      "cell_type": "code",
      "metadata": {
        "id": "F1BgCojgHCvl"
      },
      "source": [
        "data = data[~(data.v_h == 747469)]\r\n",
        "data.describe()"
      ],
      "execution_count": null,
      "outputs": []
    },
    {
      "cell_type": "code",
      "metadata": {
        "id": "TLvdGkG7HiQ4"
      },
      "source": [
        "px.scatter(data, x = \"RA (1950)\", y = \"Dec m_zw\", color = \"v_h\", hover_name= \"Name\")"
      ],
      "execution_count": null,
      "outputs": []
    },
    {
      "cell_type": "code",
      "metadata": {
        "id": "gsvP12IJIch7"
      },
      "source": [
        " data = data[~(data.v_h == 18116)]\r\n",
        " data.describe()"
      ],
      "execution_count": null,
      "outputs": []
    },
    {
      "cell_type": "code",
      "metadata": {
        "id": "5_nfDvHj_iDt"
      },
      "source": [
        "data = data.loc[~data['Dec m_zw'].str.match(r'[0-9.]+ ')]\r\n",
        "data = data[~(data['Dec m_zw'] == '-001331 9.7')]\r\n",
        "decData = data[\"Dec m_zw\"]\r\n",
        "\r\n"
      ],
      "execution_count": null,
      "outputs": []
    },
    {
      "cell_type": "code",
      "metadata": {
        "id": "66iAQ7kWIoq8"
      },
      "source": [
        "px.scatter(data, x = \"RA (1950)\", y = \"Dec m_zw\", color = \"v_h\", hover_name= \"Name\",color_continuous_scale=\"blackbody\")"
      ],
      "execution_count": null,
      "outputs": []
    },
    {
      "cell_type": "code",
      "metadata": {
        "id": "oTnU_6W9I72t"
      },
      "source": [
        "fig = px.scatter_polar(data, r=\"Dec m_zw\", theta=\"RA (1950)\", color = \"v_h\",color_continuous_scale=\"blackbody\")\r\n",
        "fig.update_polars(domain_x=[.5,1]) #garbage"
      ],
      "execution_count": null,
      "outputs": []
    },
    {
      "cell_type": "code",
      "metadata": {
        "id": "Ie6LsOnr-HYL"
      },
      "source": [
        "raData = data[\"RA (1950)\"]"
      ],
      "execution_count": null,
      "outputs": []
    },
    {
      "cell_type": "code",
      "metadata": {
        "id": "kJAYraYeLGqv"
      },
      "source": [
        "raData = raData.astype(float)\r\n",
        "raInDegrees = []\r\n",
        "\r\n",
        "for point in raData:\r\n",
        "  x = math.floor(point/10000)\r\n",
        "  y = math.floor((point - x*10000)/100)\r\n",
        "  z = point - x*10000-y*100\r\n",
        "  decimal = x + y/60 + z/3600\r\n",
        "  degrees = decimal *360/24\r\n",
        "  raInDegrees.append(degrees)\r\n",
        "\r\n",
        "raInDegrees\r\n",
        "\r\n",
        "data[\"RADegrees\"] = raInDegrees \r\n",
        "  "
      ],
      "execution_count": null,
      "outputs": []
    },
    {
      "cell_type": "code",
      "metadata": {
        "id": "fslApz7x4b-K"
      },
      "source": [
        "raData[17]"
      ],
      "execution_count": null,
      "outputs": []
    },
    {
      "cell_type": "code",
      "metadata": {
        "id": "sz44Tsc048yU"
      },
      "source": [
        "point = float(raData[17])  \r\n",
        "x = math.floor(point/10000)\r\n",
        "y = math.floor((point - x*10000)/100)\r\n",
        "z = point - x*10000-y*100\r\n",
        "\r\n",
        "print(point, x , y, z)"
      ],
      "execution_count": null,
      "outputs": []
    },
    {
      "cell_type": "code",
      "metadata": {
        "id": "c_Ifqq2D-eIj"
      },
      "source": [
        "fig = px.scatter_polar(data, r=\"Dec m_zw\", theta=\"RADegrees\", color = \"v_h\",color_continuous_scale=\"blackbody\")\r\n",
        "fig"
      ],
      "execution_count": null,
      "outputs": []
    },
    {
      "cell_type": "code",
      "metadata": {
        "id": "tOdASsBv-g_z"
      },
      "source": [
        "data[\"Dec m_zw\"]"
      ],
      "execution_count": null,
      "outputs": []
    },
    {
      "cell_type": "code",
      "metadata": {
        "id": "tx_r2vUelwLu"
      },
      "source": [
        "decData = decData.astype(float)\r\n",
        "\r\n",
        "decInDegrees = []\r\n",
        "\r\n",
        "for point in decData:\r\n",
        "  if point>0:\r\n",
        "    w = math.floor(point/1000000)\r\n",
        "    x = math.floor((point - w*1000000)/10000)\r\n",
        "    y = math.floor((point - w*1000000-x*10000)/100)\r\n",
        "    z = point - w*1000000 - x*10000 - y*100\r\n",
        "    decimal = x/60 + y/3600 + z/(3.6*10**6)\r\n",
        "    degrees = decimal *360/24 + w\r\n",
        "    decInDegrees.append(degrees)\r\n",
        "  else:\r\n",
        "    point = abs(point)\r\n",
        "    w = math.floor(point/1000000)\r\n",
        "    x = math.floor((point - w*1000000)/10000)\r\n",
        "    y = math.floor((point - w*1000000-x*10000)/100)\r\n",
        "    z = point - w*1000000 - x*10000 - y*100\r\n",
        "    decimal = x/60 + y/3600 + z/(3.6*10**6)\r\n",
        "    degrees = decimal *360/24 + w\r\n",
        "    decInDegrees.append(-degrees)\r\n",
        "\r\n",
        "data[\"DecDegrees\"] = decInDegrees "
      ],
      "execution_count": null,
      "outputs": []
    },
    {
      "cell_type": "code",
      "metadata": {
        "id": "MM4VIldNHLnC"
      },
      "source": [
        "data.describe()"
      ],
      "execution_count": null,
      "outputs": []
    },
    {
      "cell_type": "code",
      "metadata": {
        "id": "JzY03zexKLli"
      },
      "source": [
        "data.iloc[1,:]"
      ],
      "execution_count": null,
      "outputs": []
    },
    {
      "cell_type": "code",
      "metadata": {
        "id": "rEhjQjJCG9Gz"
      },
      "source": [
        "fig = px.scatter_polar(data, r=\"DecDegrees\", theta=\"RADegrees\", color = \"v_h\",color_continuous_scale=\"blackbody\")\r\n",
        "fig"
      ],
      "execution_count": null,
      "outputs": []
    },
    {
      "cell_type": "code",
      "metadata": {
        "id": "mTgjTvVqG_tz"
      },
      "source": [
        ""
      ],
      "execution_count": null,
      "outputs": []
    }
  ]
}